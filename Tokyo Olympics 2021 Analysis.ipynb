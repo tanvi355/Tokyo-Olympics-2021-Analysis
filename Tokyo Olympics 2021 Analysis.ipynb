{
 "cells": [
  {
   "cell_type": "markdown",
   "id": "96998dac",
   "metadata": {},
   "source": [
    "# Tokyo Olympics 2021 Data Analysis  "
   ]
  },
  {
   "cell_type": "markdown",
   "id": "d5a90b42",
   "metadata": {},
   "source": [
    "========================================================================================================================="
   ]
  },
  {
   "cell_type": "markdown",
   "id": "8c2cbda2",
   "metadata": {},
   "source": [
    "### Table of contents\n",
    "\n",
    "[1. Importing the required libraries](#Importing-the-required-libraries)\n",
    "\n",
    "[2. Loading the datasets](#Loading-the-datasets)\n",
    "\n",
    "[3. Functions for checking null and duplicate values](#Functions-for-checking-null-and-duplicate-values)\n",
    "\n",
    "[4. Data cleaning and preprocessing](#Data-cleaning-and-preprocessing)\n",
    "\n",
    "[5. Medals Analysis](#Medals-Analysis)\n",
    "\n",
    "     - Top 10 NOCs by total number of medals\n",
    "     \n",
    "     - Top 10 NOCs medal distribution\n",
    "\n",
    "[6. Athletes Analysis](#Athletes-Analysis)\n",
    "\n",
    "     - Top 20 NOCs by total number of athletes per NOC\n",
    "     \n",
    "     - Maximum athletes are participating in which discipline?\n",
    "     \n",
    "[7. Teams Analysis](#Teams-Analysis)\n",
    "\n",
    "     - Which NOCs had the most and least participation in terms of number of disciplines?\n",
    "\n",
    "[8. Gender Analysis](#Gender-Analysis)\n",
    "\n",
    "     - Athelte participation ratio (Male:Female)\n",
    "     \n",
    "     - Number of male and female athletes per discipline\n",
    "\n",
    "[9. Coaches Analysis](#Coaches-Analysis)\n",
    "\n",
    "     - Top 10 NOCs by number of coaches "
   ]
  },
  {
   "cell_type": "markdown",
   "id": "ff829e2c",
   "metadata": {},
   "source": [
    "========================================================================================================================="
   ]
  },
  {
   "cell_type": "markdown",
   "id": "fcf1d4c6",
   "metadata": {},
   "source": [
    "## Importing the required libraries "
   ]
  },
  {
   "cell_type": "code",
   "execution_count": 1,
   "id": "541bfd46",
   "metadata": {},
   "outputs": [],
   "source": [
    "import numpy as np\n",
    "import pandas as pd\n",
    "import matplotlib.pyplot as plt\n",
    "import os\n",
    "import seaborn as sns"
   ]
  },
  {
   "cell_type": "code",
   "execution_count": 2,
   "id": "91a6853d",
   "metadata": {},
   "outputs": [],
   "source": [
    "import warnings\n",
    "warnings.simplefilter(\"ignore\")"
   ]
  },
  {
   "cell_type": "markdown",
   "id": "a9bb6e18",
   "metadata": {},
   "source": [
    "========================================================================================================================="
   ]
  },
  {
   "cell_type": "markdown",
   "id": "8fe8618f",
   "metadata": {},
   "source": [
    "## Loading the datasets "
   ]
  },
  {
   "cell_type": "code",
   "execution_count": 3,
   "id": "aee908fd",
   "metadata": {},
   "outputs": [],
   "source": [
    "medals = pd.read_excel('datasets/Medals.xlsx')\n",
    "athletes = pd.read_excel('datasets/Athletes.xlsx')\n",
    "teams = pd.read_excel('datasets/Teams.xlsx')\n",
    "gender_entries = pd.read_excel('datasets/EntriesGender.xlsx')\n",
    "coaches = pd.read_excel('datasets/Coaches.xlsx')"
   ]
  },
  {
   "cell_type": "markdown",
   "id": "5a445a3d",
   "metadata": {},
   "source": [
    "**Medals:**\n",
    "- Rank of NOC: overall rank\n",
    "- Team/NOC: Names of the teams\n",
    "- Gold: No. of gold medals won\n",
    "- Silver: No. of silver medals won\n",
    "- Bronze: No. of bronze medals won\n",
    "- Total: Total no. of medals\n",
    "- Rank by total: Rank of NOCs on the basis of total no. of medals won\n",
    "\n",
    "**Athletes:**\n",
    "- Name: of the athlete\n",
    "- NOC: they are playing for\n",
    "- Discipline: they are particiapting in\n",
    "\n",
    "**Teams:**\n",
    "- Name: of the team\n",
    "- Discipline: that the team is participating in\n",
    "- NOC: that the team belongs to\n",
    "- Event: they are participating in\n",
    "\n",
    "**Entries Gender:**\n",
    "- Discipline\n",
    "- Female: Total female athletes for a particular discipline\n",
    "- Male: Total male athletes for a particular discipline\n",
    "- Total: Total no. of athletes for a particular discipline\n",
    "\n",
    "**Coaches:**\n",
    "- Name: of the coach\n",
    "- NOC: they are training\n",
    "- Discipline\n",
    "- Event"
   ]
  },
  {
   "cell_type": "markdown",
   "id": "4560a100",
   "metadata": {},
   "source": [
    "========================================================================================================================="
   ]
  },
  {
   "cell_type": "markdown",
   "id": "9a6b0d7d",
   "metadata": {},
   "source": [
    "## Functions for checking null and duplicate values "
   ]
  },
  {
   "cell_type": "code",
   "execution_count": 4,
   "id": "aa1863fd",
   "metadata": {},
   "outputs": [],
   "source": [
    "def check_null(df):\n",
    "    print('Total null values in each column:')\n",
    "    return df.isnull().sum()\n",
    "\n",
    "\n",
    "def check_duplicates(df):\n",
    "    print('No. of rows & columns before dropping duplicates: ' + str(df.shape))\n",
    "    df.drop_duplicates()\n",
    "    print('No. of rows & columns after dropping duplicates: ' + str(df.shape))"
   ]
  },
  {
   "cell_type": "markdown",
   "id": "d7c61f67",
   "metadata": {},
   "source": [
    "========================================================================================================================="
   ]
  },
  {
   "cell_type": "markdown",
   "id": "15890e7e",
   "metadata": {},
   "source": [
    "## Data cleaning and preprocessing"
   ]
  },
  {
   "cell_type": "markdown",
   "id": "d8a3e53c",
   "metadata": {},
   "source": [
    "**Medals**"
   ]
  },
  {
   "cell_type": "code",
   "execution_count": 5,
   "id": "2b0d4498",
   "metadata": {},
   "outputs": [
    {
     "name": "stdout",
     "output_type": "stream",
     "text": [
      "Total null values in each column:\n"
     ]
    },
    {
     "data": {
      "text/plain": [
       "Rank             0\n",
       "Team/NOC         0\n",
       "Gold             0\n",
       "Silver           0\n",
       "Bronze           0\n",
       "Total            0\n",
       "Rank by Total    0\n",
       "dtype: int64"
      ]
     },
     "execution_count": 5,
     "metadata": {},
     "output_type": "execute_result"
    }
   ],
   "source": [
    "check_null(medals)"
   ]
  },
  {
   "cell_type": "code",
   "execution_count": 6,
   "id": "a34b6f5b",
   "metadata": {},
   "outputs": [
    {
     "name": "stdout",
     "output_type": "stream",
     "text": [
      "No. of rows & columns before dropping duplicates: (93, 7)\n",
      "No. of rows & columns after dropping duplicates: (93, 7)\n"
     ]
    }
   ],
   "source": [
    "check_duplicates(medals)"
   ]
  },
  {
   "cell_type": "markdown",
   "id": "6619f1df",
   "metadata": {},
   "source": [
    "**Athletes**"
   ]
  },
  {
   "cell_type": "code",
   "execution_count": 7,
   "id": "d5d7d046",
   "metadata": {},
   "outputs": [
    {
     "name": "stdout",
     "output_type": "stream",
     "text": [
      "Total null values in each column:\n"
     ]
    },
    {
     "data": {
      "text/plain": [
       "Name          0\n",
       "NOC           0\n",
       "Discipline    0\n",
       "dtype: int64"
      ]
     },
     "execution_count": 7,
     "metadata": {},
     "output_type": "execute_result"
    }
   ],
   "source": [
    "check_null(athletes)"
   ]
  },
  {
   "cell_type": "code",
   "execution_count": 8,
   "id": "1dbb5d71",
   "metadata": {},
   "outputs": [
    {
     "name": "stdout",
     "output_type": "stream",
     "text": [
      "No. of rows & columns before dropping duplicates: (11085, 3)\n",
      "No. of rows & columns after dropping duplicates: (11085, 3)\n"
     ]
    }
   ],
   "source": [
    "check_duplicates(athletes)"
   ]
  },
  {
   "cell_type": "markdown",
   "id": "9e54d68a",
   "metadata": {},
   "source": [
    "**Teams**"
   ]
  },
  {
   "cell_type": "code",
   "execution_count": 9,
   "id": "5ce00f8b",
   "metadata": {},
   "outputs": [
    {
     "name": "stdout",
     "output_type": "stream",
     "text": [
      "Total null values in each column:\n"
     ]
    },
    {
     "data": {
      "text/plain": [
       "Name          0\n",
       "Discipline    0\n",
       "NOC           0\n",
       "Event         0\n",
       "dtype: int64"
      ]
     },
     "execution_count": 9,
     "metadata": {},
     "output_type": "execute_result"
    }
   ],
   "source": [
    "check_null(teams)"
   ]
  },
  {
   "cell_type": "code",
   "execution_count": 10,
   "id": "c3ca28d5",
   "metadata": {},
   "outputs": [
    {
     "name": "stdout",
     "output_type": "stream",
     "text": [
      "No. of rows & columns before dropping duplicates: (743, 4)\n",
      "No. of rows & columns after dropping duplicates: (743, 4)\n"
     ]
    }
   ],
   "source": [
    "check_duplicates(teams)"
   ]
  },
  {
   "cell_type": "markdown",
   "id": "cda76573",
   "metadata": {},
   "source": [
    "**Gender**"
   ]
  },
  {
   "cell_type": "code",
   "execution_count": 11,
   "id": "d011df73",
   "metadata": {},
   "outputs": [
    {
     "name": "stdout",
     "output_type": "stream",
     "text": [
      "Total null values in each column:\n"
     ]
    },
    {
     "data": {
      "text/plain": [
       "Discipline    0\n",
       "Female        0\n",
       "Male          0\n",
       "Total         0\n",
       "dtype: int64"
      ]
     },
     "execution_count": 11,
     "metadata": {},
     "output_type": "execute_result"
    }
   ],
   "source": [
    "check_null(gender_entries)"
   ]
  },
  {
   "cell_type": "code",
   "execution_count": 12,
   "id": "334b8453",
   "metadata": {},
   "outputs": [
    {
     "name": "stdout",
     "output_type": "stream",
     "text": [
      "No. of rows & columns before dropping duplicates: (46, 4)\n",
      "No. of rows & columns after dropping duplicates: (46, 4)\n"
     ]
    }
   ],
   "source": [
    "check_duplicates(gender_entries)"
   ]
  },
  {
   "cell_type": "markdown",
   "id": "01261569",
   "metadata": {},
   "source": [
    "**Coaches**"
   ]
  },
  {
   "cell_type": "code",
   "execution_count": 13,
   "id": "8fbd1c09",
   "metadata": {},
   "outputs": [
    {
     "name": "stdout",
     "output_type": "stream",
     "text": [
      "Total null values in each column:\n"
     ]
    },
    {
     "data": {
      "text/plain": [
       "Name            0\n",
       "NOC             0\n",
       "Discipline      0\n",
       "Event         145\n",
       "dtype: int64"
      ]
     },
     "execution_count": 13,
     "metadata": {},
     "output_type": "execute_result"
    }
   ],
   "source": [
    "check_null(coaches)"
   ]
  },
  {
   "cell_type": "markdown",
   "id": "221c4ab5",
   "metadata": {},
   "source": [
    "Since the 'Event' column depends on the discipline and name of the coach and follows no particular pattern, it is better to drop it. "
   ]
  },
  {
   "cell_type": "code",
   "execution_count": 14,
   "id": "85241312",
   "metadata": {},
   "outputs": [],
   "source": [
    "coaches = coaches.drop('Event', axis=1)"
   ]
  },
  {
   "cell_type": "code",
   "execution_count": 15,
   "id": "19cd3c7b",
   "metadata": {},
   "outputs": [
    {
     "name": "stdout",
     "output_type": "stream",
     "text": [
      "No. of rows & columns before dropping duplicates: (394, 3)\n",
      "No. of rows & columns after dropping duplicates: (394, 3)\n"
     ]
    }
   ],
   "source": [
    "check_duplicates(coaches)"
   ]
  },
  {
   "cell_type": "markdown",
   "id": "b2386d9d",
   "metadata": {},
   "source": [
    "The data is clean now and ready for analysis."
   ]
  },
  {
   "cell_type": "markdown",
   "id": "f5b2c81d",
   "metadata": {},
   "source": [
    "========================================================================================================================="
   ]
  },
  {
   "cell_type": "markdown",
   "id": "88513c1e",
   "metadata": {},
   "source": [
    "## Medals Analysis"
   ]
  },
  {
   "cell_type": "code",
   "execution_count": 16,
   "id": "46dd882c",
   "metadata": {},
   "outputs": [
    {
     "data": {
      "text/html": [
       "<div>\n",
       "<style scoped>\n",
       "    .dataframe tbody tr th:only-of-type {\n",
       "        vertical-align: middle;\n",
       "    }\n",
       "\n",
       "    .dataframe tbody tr th {\n",
       "        vertical-align: top;\n",
       "    }\n",
       "\n",
       "    .dataframe thead th {\n",
       "        text-align: right;\n",
       "    }\n",
       "</style>\n",
       "<table border=\"1\" class=\"dataframe\">\n",
       "  <thead>\n",
       "    <tr style=\"text-align: right;\">\n",
       "      <th></th>\n",
       "      <th>Rank</th>\n",
       "      <th>Team/NOC</th>\n",
       "      <th>Gold</th>\n",
       "      <th>Silver</th>\n",
       "      <th>Bronze</th>\n",
       "      <th>Total</th>\n",
       "      <th>Rank by Total</th>\n",
       "    </tr>\n",
       "  </thead>\n",
       "  <tbody>\n",
       "    <tr>\n",
       "      <th>0</th>\n",
       "      <td>1</td>\n",
       "      <td>United States of America</td>\n",
       "      <td>39</td>\n",
       "      <td>41</td>\n",
       "      <td>33</td>\n",
       "      <td>113</td>\n",
       "      <td>1</td>\n",
       "    </tr>\n",
       "    <tr>\n",
       "      <th>1</th>\n",
       "      <td>2</td>\n",
       "      <td>People's Republic of China</td>\n",
       "      <td>38</td>\n",
       "      <td>32</td>\n",
       "      <td>18</td>\n",
       "      <td>88</td>\n",
       "      <td>2</td>\n",
       "    </tr>\n",
       "    <tr>\n",
       "      <th>2</th>\n",
       "      <td>3</td>\n",
       "      <td>Japan</td>\n",
       "      <td>27</td>\n",
       "      <td>14</td>\n",
       "      <td>17</td>\n",
       "      <td>58</td>\n",
       "      <td>5</td>\n",
       "    </tr>\n",
       "    <tr>\n",
       "      <th>3</th>\n",
       "      <td>4</td>\n",
       "      <td>Great Britain</td>\n",
       "      <td>22</td>\n",
       "      <td>21</td>\n",
       "      <td>22</td>\n",
       "      <td>65</td>\n",
       "      <td>4</td>\n",
       "    </tr>\n",
       "    <tr>\n",
       "      <th>4</th>\n",
       "      <td>5</td>\n",
       "      <td>ROC</td>\n",
       "      <td>20</td>\n",
       "      <td>28</td>\n",
       "      <td>23</td>\n",
       "      <td>71</td>\n",
       "      <td>3</td>\n",
       "    </tr>\n",
       "  </tbody>\n",
       "</table>\n",
       "</div>"
      ],
      "text/plain": [
       "   Rank                    Team/NOC  Gold  Silver  Bronze  Total  \\\n",
       "0     1    United States of America    39      41      33    113   \n",
       "1     2  People's Republic of China    38      32      18     88   \n",
       "2     3                       Japan    27      14      17     58   \n",
       "3     4               Great Britain    22      21      22     65   \n",
       "4     5                         ROC    20      28      23     71   \n",
       "\n",
       "   Rank by Total  \n",
       "0              1  \n",
       "1              2  \n",
       "2              5  \n",
       "3              4  \n",
       "4              3  "
      ]
     },
     "execution_count": 16,
     "metadata": {},
     "output_type": "execute_result"
    }
   ],
   "source": [
    "medals.head()"
   ]
  },
  {
   "cell_type": "code",
   "execution_count": 17,
   "id": "f5d8c775",
   "metadata": {},
   "outputs": [
    {
     "data": {
      "text/plain": [
       "Rank              int64\n",
       "Team/NOC         object\n",
       "Gold              int64\n",
       "Silver            int64\n",
       "Bronze            int64\n",
       "Total             int64\n",
       "Rank by Total     int64\n",
       "dtype: object"
      ]
     },
     "execution_count": 17,
     "metadata": {},
     "output_type": "execute_result"
    }
   ],
   "source": [
    "medals.dtypes"
   ]
  },
  {
   "cell_type": "markdown",
   "id": "7cceffe4",
   "metadata": {},
   "source": [
    "### 📍 Top 10 NOCs by total no. of medals  "
   ]
  },
  {
   "cell_type": "code",
   "execution_count": 18,
   "id": "138ab833",
   "metadata": {},
   "outputs": [
    {
     "data": {
      "text/html": [
       "<div>\n",
       "<style scoped>\n",
       "    .dataframe tbody tr th:only-of-type {\n",
       "        vertical-align: middle;\n",
       "    }\n",
       "\n",
       "    .dataframe tbody tr th {\n",
       "        vertical-align: top;\n",
       "    }\n",
       "\n",
       "    .dataframe thead th {\n",
       "        text-align: right;\n",
       "    }\n",
       "</style>\n",
       "<table border=\"1\" class=\"dataframe\">\n",
       "  <thead>\n",
       "    <tr style=\"text-align: right;\">\n",
       "      <th></th>\n",
       "      <th>Rank</th>\n",
       "      <th>Team/NOC</th>\n",
       "      <th>Gold</th>\n",
       "      <th>Silver</th>\n",
       "      <th>Bronze</th>\n",
       "      <th>Total</th>\n",
       "      <th>Rank by Total</th>\n",
       "    </tr>\n",
       "  </thead>\n",
       "  <tbody>\n",
       "    <tr>\n",
       "      <th>7</th>\n",
       "      <td>8</td>\n",
       "      <td>France</td>\n",
       "      <td>10</td>\n",
       "      <td>12</td>\n",
       "      <td>11</td>\n",
       "      <td>33</td>\n",
       "      <td>10</td>\n",
       "    </tr>\n",
       "    <tr>\n",
       "      <th>6</th>\n",
       "      <td>7</td>\n",
       "      <td>Netherlands</td>\n",
       "      <td>10</td>\n",
       "      <td>12</td>\n",
       "      <td>14</td>\n",
       "      <td>36</td>\n",
       "      <td>9</td>\n",
       "    </tr>\n",
       "    <tr>\n",
       "      <th>8</th>\n",
       "      <td>9</td>\n",
       "      <td>Germany</td>\n",
       "      <td>10</td>\n",
       "      <td>11</td>\n",
       "      <td>16</td>\n",
       "      <td>37</td>\n",
       "      <td>8</td>\n",
       "    </tr>\n",
       "    <tr>\n",
       "      <th>9</th>\n",
       "      <td>10</td>\n",
       "      <td>Italy</td>\n",
       "      <td>10</td>\n",
       "      <td>10</td>\n",
       "      <td>20</td>\n",
       "      <td>40</td>\n",
       "      <td>7</td>\n",
       "    </tr>\n",
       "    <tr>\n",
       "      <th>5</th>\n",
       "      <td>6</td>\n",
       "      <td>Australia</td>\n",
       "      <td>17</td>\n",
       "      <td>7</td>\n",
       "      <td>22</td>\n",
       "      <td>46</td>\n",
       "      <td>6</td>\n",
       "    </tr>\n",
       "    <tr>\n",
       "      <th>2</th>\n",
       "      <td>3</td>\n",
       "      <td>Japan</td>\n",
       "      <td>27</td>\n",
       "      <td>14</td>\n",
       "      <td>17</td>\n",
       "      <td>58</td>\n",
       "      <td>5</td>\n",
       "    </tr>\n",
       "    <tr>\n",
       "      <th>3</th>\n",
       "      <td>4</td>\n",
       "      <td>Great Britain</td>\n",
       "      <td>22</td>\n",
       "      <td>21</td>\n",
       "      <td>22</td>\n",
       "      <td>65</td>\n",
       "      <td>4</td>\n",
       "    </tr>\n",
       "    <tr>\n",
       "      <th>4</th>\n",
       "      <td>5</td>\n",
       "      <td>ROC</td>\n",
       "      <td>20</td>\n",
       "      <td>28</td>\n",
       "      <td>23</td>\n",
       "      <td>71</td>\n",
       "      <td>3</td>\n",
       "    </tr>\n",
       "    <tr>\n",
       "      <th>1</th>\n",
       "      <td>2</td>\n",
       "      <td>People's Republic of China</td>\n",
       "      <td>38</td>\n",
       "      <td>32</td>\n",
       "      <td>18</td>\n",
       "      <td>88</td>\n",
       "      <td>2</td>\n",
       "    </tr>\n",
       "    <tr>\n",
       "      <th>0</th>\n",
       "      <td>1</td>\n",
       "      <td>United States of America</td>\n",
       "      <td>39</td>\n",
       "      <td>41</td>\n",
       "      <td>33</td>\n",
       "      <td>113</td>\n",
       "      <td>1</td>\n",
       "    </tr>\n",
       "  </tbody>\n",
       "</table>\n",
       "</div>"
      ],
      "text/plain": [
       "   Rank                    Team/NOC  Gold  Silver  Bronze  Total  \\\n",
       "7     8                      France    10      12      11     33   \n",
       "6     7                 Netherlands    10      12      14     36   \n",
       "8     9                     Germany    10      11      16     37   \n",
       "9    10                       Italy    10      10      20     40   \n",
       "5     6                   Australia    17       7      22     46   \n",
       "2     3                       Japan    27      14      17     58   \n",
       "3     4               Great Britain    22      21      22     65   \n",
       "4     5                         ROC    20      28      23     71   \n",
       "1     2  People's Republic of China    38      32      18     88   \n",
       "0     1    United States of America    39      41      33    113   \n",
       "\n",
       "   Rank by Total  \n",
       "7             10  \n",
       "6              9  \n",
       "8              8  \n",
       "9              7  \n",
       "5              6  \n",
       "2              5  \n",
       "3              4  \n",
       "4              3  \n",
       "1              2  \n",
       "0              1  "
      ]
     },
     "execution_count": 18,
     "metadata": {},
     "output_type": "execute_result"
    }
   ],
   "source": [
    "medals = medals.sort_values(by = ['Rank by Total'], ascending = True)\n",
    "top_10_by_medals = medals.head(10)\n",
    "top_10_by_medals = top_10_by_medals.sort_values(by = ['Rank by Total'], ascending = False)\n",
    "top_10_by_medals"
   ]
  },
  {
   "cell_type": "markdown",
   "id": "6d491fde",
   "metadata": {},
   "source": [
    "Visualizing it."
   ]
  },
  {
   "cell_type": "code",
   "execution_count": 19,
   "id": "e4518224",
   "metadata": {},
   "outputs": [
    {
     "data": {
      "image/png": "[encoded data removed]",
      "text/plain": [
       "<Figure size 1600x800 with 1 Axes>"
      ]
     },
     "metadata": {},
     "output_type": "display_data"
    }
   ],
   "source": [
    "# plt.bar(top_10_by_medals['Rank by Total'], top_10_by_medals['Team/NOC'])\n",
    "fig = plt.figure(figsize=(16, 8))\n",
    "plt.barh(y = top_10_by_medals['Team/NOC'], width=top_10_by_medals['Total'], color='skyblue')\n",
    "plt.title('Top 10 NOCs by total no. of medals')\n",
    "plt.xlabel('Total no. of medals won')\n",
    "plt.ylabel('NOC')\n",
    "plt.grid()\n",
    "plt.show()"
   ]
  },
  {
   "cell_type": "markdown",
   "id": "2ce7d92d",
   "metadata": {},
   "source": [
    "### 📍 Top 10 countries medal distribution"
   ]
  },
  {
   "cell_type": "code",
   "execution_count": 20,
   "id": "a7f788b6",
   "metadata": {},
   "outputs": [
    {
     "data": {
      "image/png": "[encoded data removed]",
      "text/plain": [
       "<Figure size 640x480 with 1 Axes>"
      ]
     },
     "metadata": {},
     "output_type": "display_data"
    }
   ],
   "source": [
    "plt.pie(top_10_by_medals['Total'], labels = top_10_by_medals['Team/NOC'], autopct = '%1.1f%%')\n",
    "plt.show()"
   ]
  },
  {
   "cell_type": "markdown",
   "id": "406f1ff0",
   "metadata": {},
   "source": [
    "========================================================================================================================="
   ]
  },
  {
   "cell_type": "markdown",
   "id": "90f2e534",
   "metadata": {},
   "source": [
    "## Athletes Analysis"
   ]
  },
  {
   "cell_type": "code",
   "execution_count": 21,
   "id": "ba9fb558",
   "metadata": {},
   "outputs": [
    {
     "data": {
      "text/html": [
       "<div>\n",
       "<style scoped>\n",
       "    .dataframe tbody tr th:only-of-type {\n",
       "        vertical-align: middle;\n",
       "    }\n",
       "\n",
       "    .dataframe tbody tr th {\n",
       "        vertical-align: top;\n",
       "    }\n",
       "\n",
       "    .dataframe thead th {\n",
       "        text-align: right;\n",
       "    }\n",
       "</style>\n",
       "<table border=\"1\" class=\"dataframe\">\n",
       "  <thead>\n",
       "    <tr style=\"text-align: right;\">\n",
       "      <th></th>\n",
       "      <th>Name</th>\n",
       "      <th>NOC</th>\n",
       "      <th>Discipline</th>\n",
       "    </tr>\n",
       "  </thead>\n",
       "  <tbody>\n",
       "    <tr>\n",
       "      <th>0</th>\n",
       "      <td>AALERUD Katrine</td>\n",
       "      <td>Norway</td>\n",
       "      <td>Cycling Road</td>\n",
       "    </tr>\n",
       "    <tr>\n",
       "      <th>1</th>\n",
       "      <td>ABAD Nestor</td>\n",
       "      <td>Spain</td>\n",
       "      <td>Artistic Gymnastics</td>\n",
       "    </tr>\n",
       "    <tr>\n",
       "      <th>2</th>\n",
       "      <td>ABAGNALE Giovanni</td>\n",
       "      <td>Italy</td>\n",
       "      <td>Rowing</td>\n",
       "    </tr>\n",
       "    <tr>\n",
       "      <th>3</th>\n",
       "      <td>ABALDE Alberto</td>\n",
       "      <td>Spain</td>\n",
       "      <td>Basketball</td>\n",
       "    </tr>\n",
       "    <tr>\n",
       "      <th>4</th>\n",
       "      <td>ABALDE Tamara</td>\n",
       "      <td>Spain</td>\n",
       "      <td>Basketball</td>\n",
       "    </tr>\n",
       "  </tbody>\n",
       "</table>\n",
       "</div>"
      ],
      "text/plain": [
       "                Name     NOC           Discipline\n",
       "0    AALERUD Katrine  Norway         Cycling Road\n",
       "1        ABAD Nestor   Spain  Artistic Gymnastics\n",
       "2  ABAGNALE Giovanni   Italy               Rowing\n",
       "3     ABALDE Alberto   Spain           Basketball\n",
       "4      ABALDE Tamara   Spain           Basketball"
      ]
     },
     "execution_count": 21,
     "metadata": {},
     "output_type": "execute_result"
    }
   ],
   "source": [
    "athletes.head()"
   ]
  },
  {
   "cell_type": "markdown",
   "id": "3cc00649",
   "metadata": {},
   "source": [
    "### 📍 Top 20 NOCs by total no. of  athletes per NOC "
   ]
  },
  {
   "cell_type": "code",
   "execution_count": 22,
   "id": "db9a0a7c",
   "metadata": {},
   "outputs": [
    {
     "data": {
      "text/html": [
       "<div>\n",
       "<style scoped>\n",
       "    .dataframe tbody tr th:only-of-type {\n",
       "        vertical-align: middle;\n",
       "    }\n",
       "\n",
       "    .dataframe tbody tr th {\n",
       "        vertical-align: top;\n",
       "    }\n",
       "\n",
       "    .dataframe thead th {\n",
       "        text-align: right;\n",
       "    }\n",
       "</style>\n",
       "<table border=\"1\" class=\"dataframe\">\n",
       "  <thead>\n",
       "    <tr style=\"text-align: right;\">\n",
       "      <th></th>\n",
       "      <th>Name</th>\n",
       "    </tr>\n",
       "    <tr>\n",
       "      <th>NOC</th>\n",
       "      <th></th>\n",
       "    </tr>\n",
       "  </thead>\n",
       "  <tbody>\n",
       "    <tr>\n",
       "      <th>United States of America</th>\n",
       "      <td>615</td>\n",
       "    </tr>\n",
       "    <tr>\n",
       "      <th>Japan</th>\n",
       "      <td>586</td>\n",
       "    </tr>\n",
       "    <tr>\n",
       "      <th>Australia</th>\n",
       "      <td>470</td>\n",
       "    </tr>\n",
       "    <tr>\n",
       "      <th>People's Republic of China</th>\n",
       "      <td>401</td>\n",
       "    </tr>\n",
       "    <tr>\n",
       "      <th>Germany</th>\n",
       "      <td>400</td>\n",
       "    </tr>\n",
       "    <tr>\n",
       "      <th>...</th>\n",
       "      <td>...</td>\n",
       "    </tr>\n",
       "    <tr>\n",
       "      <th>South Sudan</th>\n",
       "      <td>2</td>\n",
       "    </tr>\n",
       "    <tr>\n",
       "      <th>Central African Republic</th>\n",
       "      <td>2</td>\n",
       "    </tr>\n",
       "    <tr>\n",
       "      <th>Saint Kitts and Nevis</th>\n",
       "      <td>2</td>\n",
       "    </tr>\n",
       "    <tr>\n",
       "      <th>St Vincent and the Grenadines</th>\n",
       "      <td>2</td>\n",
       "    </tr>\n",
       "    <tr>\n",
       "      <th>Mauritania</th>\n",
       "      <td>2</td>\n",
       "    </tr>\n",
       "  </tbody>\n",
       "</table>\n",
       "<p>206 rows × 1 columns</p>\n",
       "</div>"
      ],
      "text/plain": [
       "                               Name\n",
       "NOC                                \n",
       "United States of America        615\n",
       "Japan                           586\n",
       "Australia                       470\n",
       "People's Republic of China      401\n",
       "Germany                         400\n",
       "...                             ...\n",
       "South Sudan                       2\n",
       "Central African Republic          2\n",
       "Saint Kitts and Nevis             2\n",
       "St Vincent and the Grenadines     2\n",
       "Mauritania                        2\n",
       "\n",
       "[206 rows x 1 columns]"
      ]
     },
     "execution_count": 22,
     "metadata": {},
     "output_type": "execute_result"
    }
   ],
   "source": [
    "# counting the total no. of athletes per NOC\n",
    "ath_per_noc = pd.pivot_table(athletes, values=['Name'], index=['NOC'], aggfunc={'Name':'count'})\n",
    "# sorting (max to min)\n",
    "ath_per_noc = ath_per_noc.sort_values(by = ['Name'], ascending = False)\n",
    "ath_per_noc"
   ]
  },
  {
   "cell_type": "markdown",
   "id": "970a251d",
   "metadata": {},
   "source": [
    "Visualizing it."
   ]
  },
  {
   "cell_type": "code",
   "execution_count": 23,
   "id": "6de65ee7",
   "metadata": {},
   "outputs": [
    {
     "data": {
      "image/png": "[encoded data removed]",
      "text/plain": [
       "<Figure size 1600x700 with 1 Axes>"
      ]
     },
     "metadata": {},
     "output_type": "display_data"
    }
   ],
   "source": [
    "fig = plt.figure(figsize = (16, 7))\n",
    "sns.barplot(x = ath_per_noc.head(20).index, y = 'Name', data = ath_per_noc.head(20))\n",
    "plt.title('Top 20 NOCs by total no.of Athletes per NOC')\n",
    "plt.xlabel('NOC')\n",
    "plt.xticks(rotation='vertical')\n",
    "plt.ylabel('No. of Athletes')\n",
    "\n",
    "plt.show()"
   ]
  },
  {
   "cell_type": "markdown",
   "id": "7549cc26",
   "metadata": {},
   "source": [
    "### 📍 Maximum no. of athletes are pariticipating in which discipline? "
   ]
  },
  {
   "cell_type": "code",
   "execution_count": 24,
   "id": "5917ce5a",
   "metadata": {},
   "outputs": [
    {
     "data": {
      "text/plain": [
       "array(['Cycling Road', 'Artistic Gymnastics', 'Rowing', 'Basketball',\n",
       "       'Handball', 'Swimming', 'Karate', 'Wrestling',\n",
       "       'Rhythmic Gymnastics', 'Baseball/Softball', 'Athletics',\n",
       "       'Artistic Swimming', 'Judo', 'Shooting', 'Table Tennis',\n",
       "       'Football', 'Taekwondo', 'Fencing', 'Badminton', 'Boxing',\n",
       "       'Weightlifting', 'Archery', 'Diving', 'Beach Volleyball',\n",
       "       'Sailing', 'Hockey', 'Trampoline Gymnastics', 'Marathon Swimming',\n",
       "       'Triathlon', 'Canoe Slalom', 'Water Polo', 'Surfing',\n",
       "       'Canoe Sprint', 'Cycling BMX Racing', 'Rugby Sevens', 'Volleyball',\n",
       "       'Equestrian', 'Tennis', 'Cycling Track', 'Golf', 'Skateboarding',\n",
       "       'Modern Pentathlon', 'Cycling Mountain Bike', '3x3 Basketball',\n",
       "       'Cycling BMX Freestyle', 'Sport Climbing'], dtype=object)"
      ]
     },
     "execution_count": 24,
     "metadata": {},
     "output_type": "execute_result"
    }
   ],
   "source": [
    "athletes['Discipline'].unique()"
   ]
  },
  {
   "cell_type": "code",
   "execution_count": 25,
   "id": "642c4a69",
   "metadata": {},
   "outputs": [
    {
     "data": {
      "text/html": [
       "<div>\n",
       "<style scoped>\n",
       "    .dataframe tbody tr th:only-of-type {\n",
       "        vertical-align: middle;\n",
       "    }\n",
       "\n",
       "    .dataframe tbody tr th {\n",
       "        vertical-align: top;\n",
       "    }\n",
       "\n",
       "    .dataframe thead th {\n",
       "        text-align: right;\n",
       "    }\n",
       "</style>\n",
       "<table border=\"1\" class=\"dataframe\">\n",
       "  <thead>\n",
       "    <tr style=\"text-align: right;\">\n",
       "      <th></th>\n",
       "      <th>Name</th>\n",
       "    </tr>\n",
       "    <tr>\n",
       "      <th>Discipline</th>\n",
       "      <th></th>\n",
       "    </tr>\n",
       "  </thead>\n",
       "  <tbody>\n",
       "    <tr>\n",
       "      <th>Athletics</th>\n",
       "      <td>2068</td>\n",
       "    </tr>\n",
       "    <tr>\n",
       "      <th>Swimming</th>\n",
       "      <td>743</td>\n",
       "    </tr>\n",
       "    <tr>\n",
       "      <th>Football</th>\n",
       "      <td>567</td>\n",
       "    </tr>\n",
       "    <tr>\n",
       "      <th>Rowing</th>\n",
       "      <td>496</td>\n",
       "    </tr>\n",
       "    <tr>\n",
       "      <th>Hockey</th>\n",
       "      <td>406</td>\n",
       "    </tr>\n",
       "    <tr>\n",
       "      <th>Judo</th>\n",
       "      <td>373</td>\n",
       "    </tr>\n",
       "    <tr>\n",
       "      <th>Handball</th>\n",
       "      <td>343</td>\n",
       "    </tr>\n",
       "    <tr>\n",
       "      <th>Shooting</th>\n",
       "      <td>342</td>\n",
       "    </tr>\n",
       "    <tr>\n",
       "      <th>Sailing</th>\n",
       "      <td>336</td>\n",
       "    </tr>\n",
       "    <tr>\n",
       "      <th>Rugby Sevens</th>\n",
       "      <td>283</td>\n",
       "    </tr>\n",
       "    <tr>\n",
       "      <th>Basketball</th>\n",
       "      <td>280</td>\n",
       "    </tr>\n",
       "    <tr>\n",
       "      <th>Wrestling</th>\n",
       "      <td>279</td>\n",
       "    </tr>\n",
       "    <tr>\n",
       "      <th>Volleyball</th>\n",
       "      <td>274</td>\n",
       "    </tr>\n",
       "    <tr>\n",
       "      <th>Boxing</th>\n",
       "      <td>270</td>\n",
       "    </tr>\n",
       "    <tr>\n",
       "      <th>Water Polo</th>\n",
       "      <td>269</td>\n",
       "    </tr>\n",
       "    <tr>\n",
       "      <th>Fencing</th>\n",
       "      <td>249</td>\n",
       "    </tr>\n",
       "    <tr>\n",
       "      <th>Equestrian</th>\n",
       "      <td>237</td>\n",
       "    </tr>\n",
       "    <tr>\n",
       "      <th>Canoe Sprint</th>\n",
       "      <td>236</td>\n",
       "    </tr>\n",
       "    <tr>\n",
       "      <th>Baseball/Softball</th>\n",
       "      <td>220</td>\n",
       "    </tr>\n",
       "    <tr>\n",
       "      <th>Cycling Track</th>\n",
       "      <td>208</td>\n",
       "    </tr>\n",
       "    <tr>\n",
       "      <th>Cycling Road</th>\n",
       "      <td>190</td>\n",
       "    </tr>\n",
       "    <tr>\n",
       "      <th>Artistic Gymnastics</th>\n",
       "      <td>187</td>\n",
       "    </tr>\n",
       "    <tr>\n",
       "      <th>Weightlifting</th>\n",
       "      <td>187</td>\n",
       "    </tr>\n",
       "    <tr>\n",
       "      <th>Tennis</th>\n",
       "      <td>178</td>\n",
       "    </tr>\n",
       "    <tr>\n",
       "      <th>Table Tennis</th>\n",
       "      <td>164</td>\n",
       "    </tr>\n",
       "    <tr>\n",
       "      <th>Badminton</th>\n",
       "      <td>164</td>\n",
       "    </tr>\n",
       "    <tr>\n",
       "      <th>Diving</th>\n",
       "      <td>133</td>\n",
       "    </tr>\n",
       "    <tr>\n",
       "      <th>Taekwondo</th>\n",
       "      <td>123</td>\n",
       "    </tr>\n",
       "    <tr>\n",
       "      <th>Archery</th>\n",
       "      <td>122</td>\n",
       "    </tr>\n",
       "    <tr>\n",
       "      <th>Golf</th>\n",
       "      <td>115</td>\n",
       "    </tr>\n",
       "    <tr>\n",
       "      <th>Triathlon</th>\n",
       "      <td>106</td>\n",
       "    </tr>\n",
       "    <tr>\n",
       "      <th>Artistic Swimming</th>\n",
       "      <td>98</td>\n",
       "    </tr>\n",
       "    <tr>\n",
       "      <th>Rhythmic Gymnastics</th>\n",
       "      <td>95</td>\n",
       "    </tr>\n",
       "    <tr>\n",
       "      <th>Beach Volleyball</th>\n",
       "      <td>90</td>\n",
       "    </tr>\n",
       "    <tr>\n",
       "      <th>Canoe Slalom</th>\n",
       "      <td>78</td>\n",
       "    </tr>\n",
       "    <tr>\n",
       "      <th>Skateboarding</th>\n",
       "      <td>77</td>\n",
       "    </tr>\n",
       "    <tr>\n",
       "      <th>Karate</th>\n",
       "      <td>77</td>\n",
       "    </tr>\n",
       "    <tr>\n",
       "      <th>Cycling Mountain Bike</th>\n",
       "      <td>74</td>\n",
       "    </tr>\n",
       "    <tr>\n",
       "      <th>Modern Pentathlon</th>\n",
       "      <td>69</td>\n",
       "    </tr>\n",
       "    <tr>\n",
       "      <th>3x3 Basketball</th>\n",
       "      <td>62</td>\n",
       "    </tr>\n",
       "    <tr>\n",
       "      <th>Marathon Swimming</th>\n",
       "      <td>49</td>\n",
       "    </tr>\n",
       "    <tr>\n",
       "      <th>Cycling BMX Racing</th>\n",
       "      <td>43</td>\n",
       "    </tr>\n",
       "    <tr>\n",
       "      <th>Surfing</th>\n",
       "      <td>38</td>\n",
       "    </tr>\n",
       "    <tr>\n",
       "      <th>Sport Climbing</th>\n",
       "      <td>37</td>\n",
       "    </tr>\n",
       "    <tr>\n",
       "      <th>Trampoline Gymnastics</th>\n",
       "      <td>31</td>\n",
       "    </tr>\n",
       "    <tr>\n",
       "      <th>Cycling BMX Freestyle</th>\n",
       "      <td>19</td>\n",
       "    </tr>\n",
       "  </tbody>\n",
       "</table>\n",
       "</div>"
      ],
      "text/plain": [
       "                       Name\n",
       "Discipline                 \n",
       "Athletics              2068\n",
       "Swimming                743\n",
       "Football                567\n",
       "Rowing                  496\n",
       "Hockey                  406\n",
       "Judo                    373\n",
       "Handball                343\n",
       "Shooting                342\n",
       "Sailing                 336\n",
       "Rugby Sevens            283\n",
       "Basketball              280\n",
       "Wrestling               279\n",
       "Volleyball              274\n",
       "Boxing                  270\n",
       "Water Polo              269\n",
       "Fencing                 249\n",
       "Equestrian              237\n",
       "Canoe Sprint            236\n",
       "Baseball/Softball       220\n",
       "Cycling Track           208\n",
       "Cycling Road            190\n",
       "Artistic Gymnastics     187\n",
       "Weightlifting           187\n",
       "Tennis                  178\n",
       "Table Tennis            164\n",
       "Badminton               164\n",
       "Diving                  133\n",
       "Taekwondo               123\n",
       "Archery                 122\n",
       "Golf                    115\n",
       "Triathlon               106\n",
       "Artistic Swimming        98\n",
       "Rhythmic Gymnastics      95\n",
       "Beach Volleyball         90\n",
       "Canoe Slalom             78\n",
       "Skateboarding            77\n",
       "Karate                   77\n",
       "Cycling Mountain Bike    74\n",
       "Modern Pentathlon        69\n",
       "3x3 Basketball           62\n",
       "Marathon Swimming        49\n",
       "Cycling BMX Racing       43\n",
       "Surfing                  38\n",
       "Sport Climbing           37\n",
       "Trampoline Gymnastics    31\n",
       "Cycling BMX Freestyle    19"
      ]
     },
     "execution_count": 25,
     "metadata": {},
     "output_type": "execute_result"
    }
   ],
   "source": [
    "ath_part = pd.pivot_table(athletes, values=['Name'], index=['Discipline'], aggfunc={'Name':'count'})\n",
    "ath_part = ath_part.sort_values(by = ['Name'], ascending = False)\n",
    "ath_part"
   ]
  },
  {
   "cell_type": "markdown",
   "id": "e3905c8d",
   "metadata": {},
   "source": [
    "From the above table, we can see that Athletics had maximum number of participating athletes followed by Swimming, Football and so on."
   ]
  },
  {
   "cell_type": "markdown",
   "id": "7b607728",
   "metadata": {},
   "source": [
    "========================================================================================================================="
   ]
  },
  {
   "cell_type": "markdown",
   "id": "54b82a37",
   "metadata": {},
   "source": [
    "## Teams Analysis"
   ]
  },
  {
   "cell_type": "code",
   "execution_count": 26,
   "id": "7a108ab3",
   "metadata": {},
   "outputs": [
    {
     "data": {
      "text/html": [
       "<div>\n",
       "<style scoped>\n",
       "    .dataframe tbody tr th:only-of-type {\n",
       "        vertical-align: middle;\n",
       "    }\n",
       "\n",
       "    .dataframe tbody tr th {\n",
       "        vertical-align: top;\n",
       "    }\n",
       "\n",
       "    .dataframe thead th {\n",
       "        text-align: right;\n",
       "    }\n",
       "</style>\n",
       "<table border=\"1\" class=\"dataframe\">\n",
       "  <thead>\n",
       "    <tr style=\"text-align: right;\">\n",
       "      <th></th>\n",
       "      <th>Name</th>\n",
       "      <th>Discipline</th>\n",
       "      <th>NOC</th>\n",
       "      <th>Event</th>\n",
       "    </tr>\n",
       "  </thead>\n",
       "  <tbody>\n",
       "    <tr>\n",
       "      <th>0</th>\n",
       "      <td>Belgium</td>\n",
       "      <td>3x3 Basketball</td>\n",
       "      <td>Belgium</td>\n",
       "      <td>Men</td>\n",
       "    </tr>\n",
       "    <tr>\n",
       "      <th>1</th>\n",
       "      <td>China</td>\n",
       "      <td>3x3 Basketball</td>\n",
       "      <td>People's Republic of China</td>\n",
       "      <td>Men</td>\n",
       "    </tr>\n",
       "    <tr>\n",
       "      <th>2</th>\n",
       "      <td>China</td>\n",
       "      <td>3x3 Basketball</td>\n",
       "      <td>People's Republic of China</td>\n",
       "      <td>Women</td>\n",
       "    </tr>\n",
       "    <tr>\n",
       "      <th>3</th>\n",
       "      <td>France</td>\n",
       "      <td>3x3 Basketball</td>\n",
       "      <td>France</td>\n",
       "      <td>Women</td>\n",
       "    </tr>\n",
       "    <tr>\n",
       "      <th>4</th>\n",
       "      <td>Italy</td>\n",
       "      <td>3x3 Basketball</td>\n",
       "      <td>Italy</td>\n",
       "      <td>Women</td>\n",
       "    </tr>\n",
       "  </tbody>\n",
       "</table>\n",
       "</div>"
      ],
      "text/plain": [
       "      Name      Discipline                         NOC  Event\n",
       "0  Belgium  3x3 Basketball                     Belgium    Men\n",
       "1    China  3x3 Basketball  People's Republic of China    Men\n",
       "2    China  3x3 Basketball  People's Republic of China  Women\n",
       "3   France  3x3 Basketball                      France  Women\n",
       "4    Italy  3x3 Basketball                       Italy  Women"
      ]
     },
     "execution_count": 26,
     "metadata": {},
     "output_type": "execute_result"
    }
   ],
   "source": [
    "teams.head()"
   ]
  },
  {
   "cell_type": "code",
   "execution_count": 27,
   "id": "772f67d0",
   "metadata": {},
   "outputs": [
    {
     "data": {
      "text/plain": [
       "array(['3x3 Basketball', 'Archery', 'Artistic Gymnastics',\n",
       "       'Artistic Swimming', 'Athletics', 'Baseball/Softball',\n",
       "       'Basketball', 'Beach Volleyball', 'Cycling Track', 'Fencing',\n",
       "       'Football', 'Handball', 'Hockey', 'Rhythmic Gymnastics',\n",
       "       'Rugby Sevens', 'Swimming', 'Table Tennis', 'Triathlon',\n",
       "       'Volleyball', 'Water Polo'], dtype=object)"
      ]
     },
     "execution_count": 27,
     "metadata": {},
     "output_type": "execute_result"
    }
   ],
   "source": [
    "teams['Discipline'].unique()"
   ]
  },
  {
   "cell_type": "markdown",
   "id": "2dcf2e36",
   "metadata": {},
   "source": [
    "### 📍 Which NOCs had the most and least participation in terms of no. of disciplines? "
   ]
  },
  {
   "cell_type": "code",
   "execution_count": 28,
   "id": "83565dab",
   "metadata": {},
   "outputs": [
    {
     "data": {
      "text/html": [
       "<div>\n",
       "<style scoped>\n",
       "    .dataframe tbody tr th:only-of-type {\n",
       "        vertical-align: middle;\n",
       "    }\n",
       "\n",
       "    .dataframe tbody tr th {\n",
       "        vertical-align: top;\n",
       "    }\n",
       "\n",
       "    .dataframe thead th {\n",
       "        text-align: right;\n",
       "    }\n",
       "</style>\n",
       "<table border=\"1\" class=\"dataframe\">\n",
       "  <thead>\n",
       "    <tr style=\"text-align: right;\">\n",
       "      <th></th>\n",
       "      <th>Discipline</th>\n",
       "    </tr>\n",
       "    <tr>\n",
       "      <th>NOC</th>\n",
       "      <th></th>\n",
       "    </tr>\n",
       "  </thead>\n",
       "  <tbody>\n",
       "    <tr>\n",
       "      <th>Japan</th>\n",
       "      <td>48</td>\n",
       "    </tr>\n",
       "    <tr>\n",
       "      <th>United States of America</th>\n",
       "      <td>47</td>\n",
       "    </tr>\n",
       "    <tr>\n",
       "      <th>Italy</th>\n",
       "      <td>37</td>\n",
       "    </tr>\n",
       "    <tr>\n",
       "      <th>Germany</th>\n",
       "      <td>36</td>\n",
       "    </tr>\n",
       "    <tr>\n",
       "      <th>Australia</th>\n",
       "      <td>35</td>\n",
       "    </tr>\n",
       "  </tbody>\n",
       "</table>\n",
       "</div>"
      ],
      "text/plain": [
       "                          Discipline\n",
       "NOC                                 \n",
       "Japan                             48\n",
       "United States of America          47\n",
       "Italy                             37\n",
       "Germany                           36\n",
       "Australia                         35"
      ]
     },
     "execution_count": 28,
     "metadata": {},
     "output_type": "execute_result"
    }
   ],
   "source": [
    "teams_min_max = pd.pivot_table(teams, values = ['Discipline'], index = ['NOC'], aggfunc = {'Discipline':'count'})\n",
    "teams_max = teams_min_max.sort_values(by=['Discipline'], ascending = False)\n",
    "teams_max.head()"
   ]
  },
  {
   "cell_type": "code",
   "execution_count": 29,
   "id": "9a04c033",
   "metadata": {},
   "outputs": [
    {
     "data": {
      "text/html": [
       "<div>\n",
       "<style scoped>\n",
       "    .dataframe tbody tr th:only-of-type {\n",
       "        vertical-align: middle;\n",
       "    }\n",
       "\n",
       "    .dataframe tbody tr th {\n",
       "        vertical-align: top;\n",
       "    }\n",
       "\n",
       "    .dataframe thead th {\n",
       "        text-align: right;\n",
       "    }\n",
       "</style>\n",
       "<table border=\"1\" class=\"dataframe\">\n",
       "  <thead>\n",
       "    <tr style=\"text-align: right;\">\n",
       "      <th></th>\n",
       "      <th>Discipline</th>\n",
       "    </tr>\n",
       "    <tr>\n",
       "      <th>NOC</th>\n",
       "      <th></th>\n",
       "    </tr>\n",
       "  </thead>\n",
       "  <tbody>\n",
       "    <tr>\n",
       "      <th>Angola</th>\n",
       "      <td>1</td>\n",
       "    </tr>\n",
       "    <tr>\n",
       "      <th>Azerbaijan</th>\n",
       "      <td>1</td>\n",
       "    </tr>\n",
       "    <tr>\n",
       "      <th>Bahamas</th>\n",
       "      <td>1</td>\n",
       "    </tr>\n",
       "    <tr>\n",
       "      <th>Bahrain</th>\n",
       "      <td>1</td>\n",
       "    </tr>\n",
       "    <tr>\n",
       "      <th>Bangladesh</th>\n",
       "      <td>1</td>\n",
       "    </tr>\n",
       "    <tr>\n",
       "      <th>Botswana</th>\n",
       "      <td>1</td>\n",
       "    </tr>\n",
       "    <tr>\n",
       "      <th>Bulgaria</th>\n",
       "      <td>1</td>\n",
       "    </tr>\n",
       "    <tr>\n",
       "      <th>Côte d'Ivoire</th>\n",
       "      <td>1</td>\n",
       "    </tr>\n",
       "    <tr>\n",
       "      <th>Ecuador</th>\n",
       "      <td>1</td>\n",
       "    </tr>\n",
       "    <tr>\n",
       "      <th>Estonia</th>\n",
       "      <td>1</td>\n",
       "    </tr>\n",
       "    <tr>\n",
       "      <th>Ghana</th>\n",
       "      <td>1</td>\n",
       "    </tr>\n",
       "    <tr>\n",
       "      <th>Honduras</th>\n",
       "      <td>1</td>\n",
       "    </tr>\n",
       "    <tr>\n",
       "      <th>Liechtenstein</th>\n",
       "      <td>1</td>\n",
       "    </tr>\n",
       "    <tr>\n",
       "      <th>Malaysia</th>\n",
       "      <td>1</td>\n",
       "    </tr>\n",
       "    <tr>\n",
       "      <th>Morocco</th>\n",
       "      <td>1</td>\n",
       "    </tr>\n",
       "    <tr>\n",
       "      <th>Puerto Rico</th>\n",
       "      <td>1</td>\n",
       "    </tr>\n",
       "    <tr>\n",
       "      <th>Qatar</th>\n",
       "      <td>1</td>\n",
       "    </tr>\n",
       "    <tr>\n",
       "      <th>Republic of Moldova</th>\n",
       "      <td>1</td>\n",
       "    </tr>\n",
       "    <tr>\n",
       "      <th>Saudi Arabia</th>\n",
       "      <td>1</td>\n",
       "    </tr>\n",
       "    <tr>\n",
       "      <th>Singapore</th>\n",
       "      <td>1</td>\n",
       "    </tr>\n",
       "    <tr>\n",
       "      <th>Slovakia</th>\n",
       "      <td>1</td>\n",
       "    </tr>\n",
       "    <tr>\n",
       "      <th>Uzbekistan</th>\n",
       "      <td>1</td>\n",
       "    </tr>\n",
       "    <tr>\n",
       "      <th>Venezuela</th>\n",
       "      <td>1</td>\n",
       "    </tr>\n",
       "    <tr>\n",
       "      <th>Vietnam</th>\n",
       "      <td>1</td>\n",
       "    </tr>\n",
       "    <tr>\n",
       "      <th>Zambia</th>\n",
       "      <td>1</td>\n",
       "    </tr>\n",
       "  </tbody>\n",
       "</table>\n",
       "</div>"
      ],
      "text/plain": [
       "                     Discipline\n",
       "NOC                            \n",
       "Angola                        1\n",
       "Azerbaijan                    1\n",
       "Bahamas                       1\n",
       "Bahrain                       1\n",
       "Bangladesh                    1\n",
       "Botswana                      1\n",
       "Bulgaria                      1\n",
       "Côte d'Ivoire                 1\n",
       "Ecuador                       1\n",
       "Estonia                       1\n",
       "Ghana                         1\n",
       "Honduras                      1\n",
       "Liechtenstein                 1\n",
       "Malaysia                      1\n",
       "Morocco                       1\n",
       "Puerto Rico                   1\n",
       "Qatar                         1\n",
       "Republic of Moldova           1\n",
       "Saudi Arabia                  1\n",
       "Singapore                     1\n",
       "Slovakia                      1\n",
       "Uzbekistan                    1\n",
       "Venezuela                     1\n",
       "Vietnam                       1\n",
       "Zambia                        1"
      ]
     },
     "execution_count": 29,
     "metadata": {},
     "output_type": "execute_result"
    }
   ],
   "source": [
    "teams_min = teams_min_max.loc[teams_min_max['Discipline']==1]\n",
    "teams_min"
   ]
  },
  {
   "cell_type": "code",
   "execution_count": 30,
   "id": "5a93b855",
   "metadata": {},
   "outputs": [
    {
     "data": {
      "text/plain": [
       "(25, 1)"
      ]
     },
     "execution_count": 30,
     "metadata": {},
     "output_type": "execute_result"
    }
   ],
   "source": [
    "teams_min.shape"
   ]
  },
  {
   "cell_type": "markdown",
   "id": "84770133",
   "metadata": {},
   "source": [
    "The NOC that participated in most number of disciplines is Japan. Also, there are 25 NOCs which participated in only one discipline as seen above."
   ]
  },
  {
   "cell_type": "markdown",
   "id": "ad3baf14",
   "metadata": {},
   "source": [
    "========================================================================================================================="
   ]
  },
  {
   "cell_type": "markdown",
   "id": "775c870f",
   "metadata": {},
   "source": [
    "## Gender Analysis "
   ]
  },
  {
   "cell_type": "code",
   "execution_count": 31,
   "id": "da503e31",
   "metadata": {},
   "outputs": [
    {
     "data": {
      "text/html": [
       "<div>\n",
       "<style scoped>\n",
       "    .dataframe tbody tr th:only-of-type {\n",
       "        vertical-align: middle;\n",
       "    }\n",
       "\n",
       "    .dataframe tbody tr th {\n",
       "        vertical-align: top;\n",
       "    }\n",
       "\n",
       "    .dataframe thead th {\n",
       "        text-align: right;\n",
       "    }\n",
       "</style>\n",
       "<table border=\"1\" class=\"dataframe\">\n",
       "  <thead>\n",
       "    <tr style=\"text-align: right;\">\n",
       "      <th></th>\n",
       "      <th>Discipline</th>\n",
       "      <th>Female</th>\n",
       "      <th>Male</th>\n",
       "      <th>Total</th>\n",
       "    </tr>\n",
       "  </thead>\n",
       "  <tbody>\n",
       "    <tr>\n",
       "      <th>0</th>\n",
       "      <td>3x3 Basketball</td>\n",
       "      <td>32</td>\n",
       "      <td>32</td>\n",
       "      <td>64</td>\n",
       "    </tr>\n",
       "    <tr>\n",
       "      <th>1</th>\n",
       "      <td>Archery</td>\n",
       "      <td>64</td>\n",
       "      <td>64</td>\n",
       "      <td>128</td>\n",
       "    </tr>\n",
       "    <tr>\n",
       "      <th>2</th>\n",
       "      <td>Artistic Gymnastics</td>\n",
       "      <td>98</td>\n",
       "      <td>98</td>\n",
       "      <td>196</td>\n",
       "    </tr>\n",
       "    <tr>\n",
       "      <th>3</th>\n",
       "      <td>Artistic Swimming</td>\n",
       "      <td>105</td>\n",
       "      <td>0</td>\n",
       "      <td>105</td>\n",
       "    </tr>\n",
       "    <tr>\n",
       "      <th>4</th>\n",
       "      <td>Athletics</td>\n",
       "      <td>969</td>\n",
       "      <td>1072</td>\n",
       "      <td>2041</td>\n",
       "    </tr>\n",
       "  </tbody>\n",
       "</table>\n",
       "</div>"
      ],
      "text/plain": [
       "            Discipline  Female  Male  Total\n",
       "0       3x3 Basketball      32    32     64\n",
       "1              Archery      64    64    128\n",
       "2  Artistic Gymnastics      98    98    196\n",
       "3    Artistic Swimming     105     0    105\n",
       "4            Athletics     969  1072   2041"
      ]
     },
     "execution_count": 31,
     "metadata": {},
     "output_type": "execute_result"
    }
   ],
   "source": [
    "gender_entries.head()"
   ]
  },
  {
   "cell_type": "code",
   "execution_count": 32,
   "id": "081f1161",
   "metadata": {},
   "outputs": [
    {
     "data": {
      "text/html": [
       "<div>\n",
       "<style scoped>\n",
       "    .dataframe tbody tr th:only-of-type {\n",
       "        vertical-align: middle;\n",
       "    }\n",
       "\n",
       "    .dataframe tbody tr th {\n",
       "        vertical-align: top;\n",
       "    }\n",
       "\n",
       "    .dataframe thead th {\n",
       "        text-align: right;\n",
       "    }\n",
       "</style>\n",
       "<table border=\"1\" class=\"dataframe\">\n",
       "  <thead>\n",
       "    <tr style=\"text-align: right;\">\n",
       "      <th></th>\n",
       "      <th>Female</th>\n",
       "      <th>Male</th>\n",
       "      <th>Total</th>\n",
       "    </tr>\n",
       "  </thead>\n",
       "  <tbody>\n",
       "    <tr>\n",
       "      <th>count</th>\n",
       "      <td>46.000000</td>\n",
       "      <td>46.000000</td>\n",
       "      <td>46.00000</td>\n",
       "    </tr>\n",
       "    <tr>\n",
       "      <th>mean</th>\n",
       "      <td>118.086957</td>\n",
       "      <td>127.913043</td>\n",
       "      <td>246.00000</td>\n",
       "    </tr>\n",
       "    <tr>\n",
       "      <th>std</th>\n",
       "      <td>147.169717</td>\n",
       "      <td>166.900746</td>\n",
       "      <td>312.46134</td>\n",
       "    </tr>\n",
       "    <tr>\n",
       "      <th>min</th>\n",
       "      <td>10.000000</td>\n",
       "      <td>0.000000</td>\n",
       "      <td>19.00000</td>\n",
       "    </tr>\n",
       "    <tr>\n",
       "      <th>25%</th>\n",
       "      <td>42.750000</td>\n",
       "      <td>40.250000</td>\n",
       "      <td>85.50000</td>\n",
       "    </tr>\n",
       "    <tr>\n",
       "      <th>50%</th>\n",
       "      <td>90.000000</td>\n",
       "      <td>97.500000</td>\n",
       "      <td>190.00000</td>\n",
       "    </tr>\n",
       "    <tr>\n",
       "      <th>75%</th>\n",
       "      <td>138.750000</td>\n",
       "      <td>149.750000</td>\n",
       "      <td>288.75000</td>\n",
       "    </tr>\n",
       "    <tr>\n",
       "      <th>max</th>\n",
       "      <td>969.000000</td>\n",
       "      <td>1072.000000</td>\n",
       "      <td>2041.00000</td>\n",
       "    </tr>\n",
       "  </tbody>\n",
       "</table>\n",
       "</div>"
      ],
      "text/plain": [
       "           Female         Male       Total\n",
       "count   46.000000    46.000000    46.00000\n",
       "mean   118.086957   127.913043   246.00000\n",
       "std    147.169717   166.900746   312.46134\n",
       "min     10.000000     0.000000    19.00000\n",
       "25%     42.750000    40.250000    85.50000\n",
       "50%     90.000000    97.500000   190.00000\n",
       "75%    138.750000   149.750000   288.75000\n",
       "max    969.000000  1072.000000  2041.00000"
      ]
     },
     "execution_count": 32,
     "metadata": {},
     "output_type": "execute_result"
    }
   ],
   "source": [
    "gender_entries.describe()"
   ]
  },
  {
   "cell_type": "markdown",
   "id": "3de796ca",
   "metadata": {},
   "source": [
    "### 📍 Athlete participation ratio (Male:Female) "
   ]
  },
  {
   "cell_type": "code",
   "execution_count": 33,
   "id": "84bc6a6d",
   "metadata": {},
   "outputs": [
    {
     "name": "stdout",
     "output_type": "stream",
     "text": [
      "Total male athletes: 5884\n",
      "Total female athletes: 5432\n",
      "(Male athletes:Female athletes) ratio = 1.0832106038291605\n"
     ]
    }
   ],
   "source": [
    "print('Total male athletes: ' + str(gender_entries['Male'].sum()))\n",
    "print('Total female athletes: ' + str(gender_entries['Female'].sum()))\n",
    "ath_ratio = gender_entries['Male'].sum()/gender_entries['Female'].sum()\n",
    "print('(Male athletes:Female athletes) ratio = ' + str(ath_ratio))"
   ]
  },
  {
   "cell_type": "code",
   "execution_count": 34,
   "id": "40dd7106",
   "metadata": {},
   "outputs": [],
   "source": [
    "ath_rto = [gender_entries['Male'].sum(), gender_entries['Female'].sum()]"
   ]
  },
  {
   "cell_type": "markdown",
   "id": "26153a3a",
   "metadata": {},
   "source": [
    "Visualizing it."
   ]
  },
  {
   "cell_type": "code",
   "execution_count": 35,
   "id": "c96498da",
   "metadata": {},
   "outputs": [
    {
     "data": {
      "image/png": "[encoded data removed]",
      "text/plain": [
       "<Figure size 1600x500 with 1 Axes>"
      ]
     },
     "metadata": {},
     "output_type": "display_data"
    }
   ],
   "source": [
    "plt.figure(figsize=(16,5))\n",
    "plt.pie(ath_rto, labels = ['Male', 'Female'], autopct = '%1.1f%%', startangle=90)\n",
    "plt.show()"
   ]
  },
  {
   "cell_type": "markdown",
   "id": "7a4e96ff",
   "metadata": {},
   "source": [
    "### 📍 No. of male and female athletes per discipline"
   ]
  },
  {
   "cell_type": "code",
   "execution_count": 36,
   "id": "b314f9f3",
   "metadata": {},
   "outputs": [
    {
     "data": {
      "text/html": [
       "<div>\n",
       "<style scoped>\n",
       "    .dataframe tbody tr th:only-of-type {\n",
       "        vertical-align: middle;\n",
       "    }\n",
       "\n",
       "    .dataframe tbody tr th {\n",
       "        vertical-align: top;\n",
       "    }\n",
       "\n",
       "    .dataframe thead th {\n",
       "        text-align: right;\n",
       "    }\n",
       "</style>\n",
       "<table border=\"1\" class=\"dataframe\">\n",
       "  <thead>\n",
       "    <tr style=\"text-align: right;\">\n",
       "      <th></th>\n",
       "      <th>Discipline</th>\n",
       "      <th>Female</th>\n",
       "      <th>Male</th>\n",
       "      <th>Total</th>\n",
       "    </tr>\n",
       "  </thead>\n",
       "  <tbody>\n",
       "    <tr>\n",
       "      <th>4</th>\n",
       "      <td>Athletics</td>\n",
       "      <td>969</td>\n",
       "      <td>1072</td>\n",
       "      <td>2041</td>\n",
       "    </tr>\n",
       "    <tr>\n",
       "      <th>36</th>\n",
       "      <td>Swimming</td>\n",
       "      <td>361</td>\n",
       "      <td>418</td>\n",
       "      <td>779</td>\n",
       "    </tr>\n",
       "    <tr>\n",
       "      <th>20</th>\n",
       "      <td>Football</td>\n",
       "      <td>264</td>\n",
       "      <td>344</td>\n",
       "      <td>608</td>\n",
       "    </tr>\n",
       "    <tr>\n",
       "      <th>29</th>\n",
       "      <td>Rowing</td>\n",
       "      <td>257</td>\n",
       "      <td>265</td>\n",
       "      <td>522</td>\n",
       "    </tr>\n",
       "    <tr>\n",
       "      <th>24</th>\n",
       "      <td>Judo</td>\n",
       "      <td>192</td>\n",
       "      <td>201</td>\n",
       "      <td>393</td>\n",
       "    </tr>\n",
       "  </tbody>\n",
       "</table>\n",
       "</div>"
      ],
      "text/plain": [
       "   Discipline  Female  Male  Total\n",
       "4   Athletics     969  1072   2041\n",
       "36   Swimming     361   418    779\n",
       "20   Football     264   344    608\n",
       "29     Rowing     257   265    522\n",
       "24       Judo     192   201    393"
      ]
     },
     "execution_count": 36,
     "metadata": {},
     "output_type": "execute_result"
    }
   ],
   "source": [
    "gender_part = gender_entries.sort_values(by = ['Total'], ascending = False)\n",
    "gender_part.head()"
   ]
  },
  {
   "cell_type": "markdown",
   "id": "078bdb5a",
   "metadata": {},
   "source": [
    "Visualizing it."
   ]
  },
  {
   "cell_type": "code",
   "execution_count": 37,
   "id": "71361e7c",
   "metadata": {},
   "outputs": [
    {
     "data": {
      "image/png": "[encoded data removed]",
      "text/plain": [
       "<Figure size 640x480 with 1 Axes>"
      ]
     },
     "metadata": {},
     "output_type": "display_data"
    }
   ],
   "source": [
    "# plt.figure(figsize = (50, 12))\n",
    "\n",
    "labels = gender_part['Discipline']\n",
    "x = np.arange(len(labels))\n",
    "width = 0.35\n",
    "\n",
    "fig, ax = plt.subplots()\n",
    "rect1 = ax.bar(x-width, gender_part['Male'], color='b', width = width, label='Male')\n",
    "rect2 = ax.bar(x+width, gender_part['Female'], color='g', width = width, label='Female')\n",
    "\n",
    "# Add some text for labels, title and custom x-axis tick labels, etc.\n",
    "ax.set_xlabel('Discipline')\n",
    "ax.set_ylabel('Number of athletes')\n",
    "plt.xticks(rotation = 'vertical')\n",
    "ax.set_xticklabels(labels)\n",
    "ax.legend()\n",
    "\n",
    "#ax.bar_label(rect1, padding=3)\n",
    "#ax.bar_label(rect2, padding=3)\n",
    "\n",
    "#fig.size(20, 8)\n",
    "# fig.tight_layout()\n",
    "\n",
    "# ax.autoscale(tight=True)\n",
    "\n",
    "plt.show()"
   ]
  },
  {
   "cell_type": "code",
   "execution_count": 38,
   "id": "3059903f",
   "metadata": {},
   "outputs": [],
   "source": [
    "# check the above chart"
   ]
  },
  {
   "cell_type": "markdown",
   "id": "f6bee4cf",
   "metadata": {},
   "source": [
    "========================================================================================================================="
   ]
  },
  {
   "cell_type": "markdown",
   "id": "0043e914",
   "metadata": {},
   "source": [
    "## Coaches Analysis "
   ]
  },
  {
   "cell_type": "code",
   "execution_count": 39,
   "id": "b4698567",
   "metadata": {},
   "outputs": [
    {
     "data": {
      "text/html": [
       "<div>\n",
       "<style scoped>\n",
       "    .dataframe tbody tr th:only-of-type {\n",
       "        vertical-align: middle;\n",
       "    }\n",
       "\n",
       "    .dataframe tbody tr th {\n",
       "        vertical-align: top;\n",
       "    }\n",
       "\n",
       "    .dataframe thead th {\n",
       "        text-align: right;\n",
       "    }\n",
       "</style>\n",
       "<table border=\"1\" class=\"dataframe\">\n",
       "  <thead>\n",
       "    <tr style=\"text-align: right;\">\n",
       "      <th></th>\n",
       "      <th>Name</th>\n",
       "      <th>NOC</th>\n",
       "      <th>Discipline</th>\n",
       "    </tr>\n",
       "  </thead>\n",
       "  <tbody>\n",
       "    <tr>\n",
       "      <th>0</th>\n",
       "      <td>ABDELMAGID Wael</td>\n",
       "      <td>Egypt</td>\n",
       "      <td>Football</td>\n",
       "    </tr>\n",
       "    <tr>\n",
       "      <th>1</th>\n",
       "      <td>ABE Junya</td>\n",
       "      <td>Japan</td>\n",
       "      <td>Volleyball</td>\n",
       "    </tr>\n",
       "    <tr>\n",
       "      <th>2</th>\n",
       "      <td>ABE Katsuhiko</td>\n",
       "      <td>Japan</td>\n",
       "      <td>Basketball</td>\n",
       "    </tr>\n",
       "    <tr>\n",
       "      <th>3</th>\n",
       "      <td>ADAMA Cherif</td>\n",
       "      <td>Côte d'Ivoire</td>\n",
       "      <td>Football</td>\n",
       "    </tr>\n",
       "    <tr>\n",
       "      <th>4</th>\n",
       "      <td>AGEBA Yuya</td>\n",
       "      <td>Japan</td>\n",
       "      <td>Volleyball</td>\n",
       "    </tr>\n",
       "  </tbody>\n",
       "</table>\n",
       "</div>"
      ],
      "text/plain": [
       "              Name            NOC  Discipline\n",
       "0  ABDELMAGID Wael          Egypt    Football\n",
       "1        ABE Junya          Japan  Volleyball\n",
       "2    ABE Katsuhiko          Japan  Basketball\n",
       "3     ADAMA Cherif  Côte d'Ivoire    Football\n",
       "4       AGEBA Yuya          Japan  Volleyball"
      ]
     },
     "execution_count": 39,
     "metadata": {},
     "output_type": "execute_result"
    }
   ],
   "source": [
    "coaches.head()"
   ]
  },
  {
   "cell_type": "markdown",
   "id": "9401084c",
   "metadata": {},
   "source": [
    "### 📍 Top 10 NOCs by no. of coaches "
   ]
  },
  {
   "cell_type": "code",
   "execution_count": 40,
   "id": "626bf335",
   "metadata": {},
   "outputs": [
    {
     "data": {
      "text/plain": [
       "Japan                       35\n",
       "Spain                       28\n",
       "United States of America    28\n",
       "Australia                   22\n",
       "Canada                      16\n",
       "                            ..\n",
       "Belarus                      1\n",
       "Turkey                       1\n",
       "Croatia                      1\n",
       "Portugal                     1\n",
       "Liechtenstein                1\n",
       "Name: NOC, Length: 61, dtype: int64"
      ]
     },
     "execution_count": 40,
     "metadata": {},
     "output_type": "execute_result"
    }
   ],
   "source": [
    "coaches_pvt = coaches['NOC'].value_counts()\n",
    "coaches_pvt = coaches_pvt.sort_values(ascending = False)\n",
    "coaches_pvt"
   ]
  },
  {
   "cell_type": "markdown",
   "id": "56933571",
   "metadata": {},
   "source": [
    "Visualizing it."
   ]
  },
  {
   "cell_type": "code",
   "execution_count": 41,
   "id": "5fe2d06d",
   "metadata": {},
   "outputs": [
    {
     "data": {
      "image/png": "[encoded data removed]",
      "text/plain": [
       "<Figure size 1600x800 with 1 Axes>"
      ]
     },
     "metadata": {},
     "output_type": "display_data"
    }
   ],
   "source": [
    "top_10_by_coaches = coaches_pvt.head(10)\n",
    "top_10_by_coaches = top_10_by_coaches.sort_values()\n",
    "\n",
    "fig,ax=plt.subplots(figsize=(16,8))\n",
    "\n",
    "ax.barh(top_10_by_coaches.index, top_10_by_coaches.values)\n",
    "ax.set_title(\"Top 10 countries by number of coaches\",fontsize=18)\n",
    "\n",
    "plt.xlabel('No. of coaches')\n",
    "plt.ylabel('NOC')\n",
    "plt.grid()\n",
    "plt.show()"
   ]
  },
  {
   "cell_type": "markdown",
   "id": "ff368fd9",
   "metadata": {},
   "source": [
    "========================================================================================================================="
   ]
  },
  {
   "cell_type": "markdown",
   "id": "abfae5de",
   "metadata": {},
   "source": []
  }
 ],
 "metadata": {
  "kernelspec": {
   "display_name": "Python 3",
   "language": "python",
   "name": "python3"
  },
  "language_info": {
   "codemirror_mode": {
    "name": "ipython",
    "version": 3
   },
   "file_extension": ".py",
   "mimetype": "text/x-python",
   "name": "python",
   "nbconvert_exporter": "python",
   "pygments_lexer": "ipython3",
   "version": "3.8.10"
  },
  "varInspector": {
   "cols": {
    "lenName": 16,
    "lenType": 16,
    "lenVar": 40
   },
   "kernels_config": {
    "python": {
     "delete_cmd_postfix": "",
     "delete_cmd_prefix": "del ",
     "library": "var_list.py",
     "varRefreshCmd": "print(var_dic_list())"
    },
    "r": {
     "delete_cmd_postfix": ") ",
     "delete_cmd_prefix": "rm(",
     "library": "var_list.r",
     "varRefreshCmd": "cat(var_dic_list()) "
    }
   },
   "types_to_exclude": [
    "module",
    "function",
    "builtin_function_or_method",
    "instance",
    "_Feature"
   ],
   "window_display": false
  }
 },
 "nbformat": 4,
 "nbformat_minor": 5
}
